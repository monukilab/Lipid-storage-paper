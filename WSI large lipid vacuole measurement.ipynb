{
 "cells": [
  {
   "cell_type": "code",
   "execution_count": null,
   "metadata": {},
   "outputs": [],
   "source": [
    "import biondi, glob, os, pickle\n",
    "from tensorflow.keras import models\n",
    "from jarvis.train.box import BoundingBox"
   ]
  },
  {
   "cell_type": "markdown",
   "metadata": {},
   "source": [
    "# Load RetinaNet and classification models"
   ]
  },
  {
   "cell_type": "code",
   "execution_count": null,
   "metadata": {},
   "outputs": [],
   "source": [
    "# specify filepath for trained RetinaNet model\n",
    "retinenet_fp = ''\n",
    "# specify filepath for trained classifier model\n",
    "classifier_fp = ''\n",
    "retinanet_model = models.load_model(retinenet_fp)\n",
    "classification_model = models.load_model(classifier_fp)"
   ]
  },
  {
   "cell_type": "markdown",
   "metadata": {},
   "source": [
    "## Specify the bounding box parameters used during training of the RetinaNet model"
   ]
  },
  {
   "cell_type": "code",
   "execution_count": null,
   "metadata": {},
   "outputs": [],
   "source": [
    "bb_c3_16 = BoundingBox(\n",
    "    image_shape=(256, 256),\n",
    "    classes=1,\n",
    "    c=[3], \n",
    "    anchor_shapes=[16], #shape is in the original image resolution; 32\n",
    "    anchor_scales=[1], #1\n",
    "    anchor_ratios=[1], #1\n",
    "    iou_upper=0., \n",
    "    iou_lower=0.2)"
   ]
  },
  {
   "cell_type": "markdown",
   "metadata": {},
   "source": [
    "# Process WSIs"
   ]
  },
  {
   "cell_type": "code",
   "execution_count": null,
   "metadata": {},
   "outputs": [],
   "source": [
    "# Specify directory of WSI files to be processed\n",
    "# Occasionally, some svs cannot be read at the 10x level using openslide. For these files, add the parameter \n",
    "# \"low_level=True\" to the vesicle_prevalence_and_coords function, which forces openslide to read the svs at \n",
    "# the 40x level instead.\n",
    "WSI_dir = ''\n",
    "WSI_filepaths = sorted(glob.glob(WSI_dir+'*.svs'))"
   ]
  },
  {
   "cell_type": "code",
   "execution_count": null,
   "metadata": {},
   "outputs": [],
   "source": [
    "# Specify save directory for WSI output data\n",
    "save_dir = ''\n",
    "datas = []\n",
    "for i in WSI_filepaths:\n",
    "    print(f'Working on {i}')\n",
    "    data = biondi.dataset.vesicle_prevalence_and_coords(i, retinanet_model, classification_model, bb_c3_16, return_predictions=True,)\n",
    "    datas.append(data)\n",
    "    with open(save_dir+os.path.basename(i)[:-12]+' LLV model output.pickle', 'wb') as handle:\n",
    "        pickle.dump(data, handle)"
   ]
  },
  {
   "cell_type": "code",
   "execution_count": null,
   "metadata": {},
   "outputs": [],
   "source": [
    "# Structure of output files/dictionaries\n",
    "{'coords': ,\n",
    " 'binary prevalence': ,\n",
    " 'predictions': , \n",
    " 'logits': ,}"
   ]
  },
  {
   "cell_type": "code",
   "execution_count": null,
   "metadata": {},
   "outputs": [],
   "source": []
  },
  {
   "cell_type": "code",
   "execution_count": null,
   "metadata": {},
   "outputs": [],
   "source": []
  }
 ],
 "metadata": {
  "kernelspec": {
   "display_name": "Python 3",
   "language": "python",
   "name": "python3"
  },
  "language_info": {
   "codemirror_mode": {
    "name": "ipython",
    "version": 3
   },
   "file_extension": ".py",
   "mimetype": "text/x-python",
   "name": "python",
   "nbconvert_exporter": "python",
   "pygments_lexer": "ipython3",
   "version": "3.8.5"
  }
 },
 "nbformat": 4,
 "nbformat_minor": 4
}
