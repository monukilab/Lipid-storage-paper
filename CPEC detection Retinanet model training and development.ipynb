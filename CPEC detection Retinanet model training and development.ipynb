{
 "cells": [
  {
   "cell_type": "markdown",
   "metadata": {},
   "source": [
    "# CPEC detection RetinaNet model training and validation"
   ]
  },
  {
   "cell_type": "code",
   "execution_count": 3,
   "metadata": {},
   "outputs": [
    {
     "name": "stderr",
     "output_type": "stream",
     "text": [
      "/miniconda/envs/jarvis/lib/python3.8/site-packages/skimage/io/manage_plugins.py:23: UserWarning: Your installed pillow version is < 8.1.2. Several security issues (CVE-2021-27921, CVE-2021-25290, CVE-2021-25291, CVE-2021-25293, and more) have been fixed in pillow 8.1.2 or higher. We recommend to upgrade this library.\n",
      "  from .collection import imread_collection_wrapper\n"
     ]
    }
   ],
   "source": [
    "import biondi, os , glob, pickle\n",
    "import pandas as pd\n",
    "import numpy as np\n",
    "from tensorflow.keras import Input, Model, models, layers, metrics\n",
    "from jarvis.train.box import BoundingBox\n",
    "from tensorflow import keras\n",
    "import matplotlib.pyplot as plt"
   ]
  },
  {
   "cell_type": "markdown",
   "metadata": {},
   "source": [
    "# Load training, validation, and test datasets"
   ]
  },
  {
   "cell_type": "code",
   "execution_count": 4,
   "metadata": {},
   "outputs": [],
   "source": [
    "# specify dataset filepaths\n",
    "training_dataset_dir = ''\n",
    "validation_dataset_dir = ''\n",
    "test_dataset_dir = ''\n",
    "# load datasets\n",
    "with open(training_dataset_dir,'rb') as handle:\n",
    "    x = pickle.load(handle)\n",
    "with open(validation_dataset_dir,'rb') as handle:\n",
    "    v = pickle.load(handle)\n",
    "with open(test_dataset_dir,'rb') as handle:\n",
    "    t = pickle.load(handle)"
   ]
  },
  {
   "cell_type": "markdown",
   "metadata": {},
   "source": [
    "# Create data generators which will be passed to the keras models for Retinanet training and validation"
   ]
  },
  {
   "cell_type": "code",
   "execution_count": 5,
   "metadata": {},
   "outputs": [],
   "source": [
    "xgen = biondi.dataset.TrainingGenerator(data=x, batch_size=16, retinanet=True, contrast=True)\n",
    "vgen = biondi.dataset.TrainingGenerator(data=v, batch_size=16, retinanet=True, validation=True)"
   ]
  },
  {
   "cell_type": "markdown",
   "metadata": {},
   "source": [
    "# Define various parameters and generate inputs for the generation of the RetinaNet model"
   ]
  },
  {
   "cell_type": "code",
   "execution_count": 7,
   "metadata": {},
   "outputs": [],
   "source": [
    "bb_c3_16 = BoundingBox(\n",
    "    image_shape=(256,256),\n",
    "    classes=1,\n",
    "    c=[3],\n",
    "    anchor_shapes=[16],\n",
    "    anchor_scales=[1],\n",
    "    anchor_ratios=[1],\n",
    "    iou_upper=0.5,\n",
    "    iou_lower=0.2)\n",
    "inputs = bb_c3_16.get_inputs({'dat':Input(name='dat', shape=(None, 256, 256, 3)),\n",
    "                              'cls-c3': Input(name='cls-c3_y', shape=(None, 32, 32, 1)),\n",
    "                              'reg-c3': Input(name='reg-c3_y', shape=(None, 32, 32, 4)),},\n",
    "                              Input)"
   ]
  },
  {
   "cell_type": "markdown",
   "metadata": {},
   "source": [
    "# Create the RetinaNet model"
   ]
  },
  {
   "cell_type": "code",
   "execution_count": 8,
   "metadata": {},
   "outputs": [],
   "source": [
    "rn_model = biondi.models.retinanet_resnet50_3d(inputs, K=1, A=1, feature_maps=('c3'), lr=2e-4, filter_ratio=1)"
   ]
  },
  {
   "cell_type": "markdown",
   "metadata": {},
   "source": [
    "# Start training RetinaNet model"
   ]
  },
  {
   "cell_type": "code",
   "execution_count": 10,
   "metadata": {},
   "outputs": [],
   "source": [
    "# create checkpoint object to save the model after each epoch (optional).\n",
    "chckpnt_dir = ''\n",
    "checkpoint = keras.callbacks.ModelCheckpoint(filepath=chckpnt_dir + 'model_epoch-{epoch:02d}_val_loss-{val_loss:.4f}_val_ppv-{val_cls-c3_ppv:.4f}_val_sens-{val_cls-c3_sens:.4f}')"
   ]
  },
  {
   "cell_type": "code",
   "execution_count": null,
   "metadata": {},
   "outputs": [],
   "source": [
    "# train model. Depending on system resources the number of workers and the max_queue_size can be adjusted.\n",
    "# remove callbacks parameter if model checkpoints are not needed.\n",
    "rn_hist = rn_model.fit(x=xgen, epochs=50, validation_data=vgen, workers=16, max_queue_size=100, verbose=1, callbacks=[checkpoint],)"
   ]
  },
  {
   "cell_type": "markdown",
   "metadata": {},
   "source": [
    "# Visualize model training and performance across epochs"
   ]
  },
  {
   "cell_type": "code",
   "execution_count": null,
   "metadata": {},
   "outputs": [],
   "source": [
    "#create list of model checkpoint saves\n",
    "chckpnts = sorted(glob.glob(chckpnt_dir + 'model_epoch*'))"
   ]
  },
  {
   "cell_type": "code",
   "execution_count": null,
   "metadata": {},
   "outputs": [],
   "source": [
    "#extract validation loss, positive predictive value, and sensitivity from model checkpoint filenames.\n",
    "modelstats_loss_ppv_sens = np.array([[i[-37:-31],i[-22:-16],i[-6:]] for i in chckpnts])\n",
    "plt.plot(modelstats_loss_ppv_sens[:,0].astype(float), label='val_loss')\n",
    "plt.plot(modelstats_loss_ppv_sens[:,1].astype(float), label='val_ppv')\n",
    "plt.plot(modelstats_loss_ppv_sens[:,2].astype(float), label='val_sens')\n",
    "plt.legend()\n",
    "plt.show()"
   ]
  },
  {
   "cell_type": "code",
   "execution_count": null,
   "metadata": {},
   "outputs": [],
   "source": [
    "#calculate and visual the intersection over union (IOU) of model generated boxes and ground truth#\n",
    "#measure median, 25% quartile, and 75% quartile across checkpoints.\n",
    "chckpnt_ios = []\n",
    "anchors_true, _ = bb_c3_16.convert_box_to_anc(v)\n",
    "for i in chckpnts:\n",
    "    print(os.path.basename(i))\n",
    "    model = models.load_model(i)\n",
    "    ious = {\n",
    "        'med': [],\n",
    "        'p25': [],\n",
    "        'p75': []}\n",
    "\n",
    "    rn_preds = model.predict(vgen, workers=16, max_queue_size=100)\n",
    "    anchors_pred, _ = bb_c3_16.convert_box_to_anc(rn_preds, iou_nms=0.3)\n",
    "\n",
    "    curr = []\n",
    "    for pred, true in zip(anchors_pred, anchors_true):\n",
    "        for p in pred:\n",
    "            iou = bb_c3_16.calculate_ious(box=p, anchors=true)\n",
    "            if iou.size > 0:\n",
    "                curr.append(np.max(iou))\n",
    "            else:\n",
    "                curr.append(0)\n",
    "\n",
    "    if len(curr) == 0:\n",
    "        curr = [0]\n",
    "\n",
    "    ious['med'].append(np.median(curr))\n",
    "    ious['p25'].append(np.percentile(curr, 25))\n",
    "    ious['p75'].append(np.percentile(curr, 75))\n",
    "\n",
    "    ious = {k: np.array(v) for k, v in ious.items()}\n",
    "    df = pd.DataFrame(index=np.arange(ious['med'].size))\n",
    "    df['iou_median'] = ious['med']\n",
    "    df['iou_p-25th'] = ious['p25']\n",
    "    df['iou_p-75th'] = ious['p75']\n",
    "\n",
    "    # --- Print accuracy\n",
    "    print(df['iou_median'].median())\n",
    "    print(df['iou_p-25th'].median())\n",
    "    print(df['iou_p-75th'].median())\n",
    "    chckpnt_ios.append(df)\n",
    "\n",
    "#plot IOUs\n",
    "plt.plot([i.to_numpy()[0][0] for i in chckpnt_ios], label='med')\n",
    "plt.plot([i.to_numpy()[0][1] for i in chckpnt_ios], label='p25')\n",
    "plt.plot([i.to_numpy()[0][2] for i in chckpnt_ios], label='p75')\n",
    "plt.legend()\n",
    "plt.xlim(8,41)\n",
    "plt.show()"
   ]
  },
  {
   "cell_type": "markdown",
   "metadata": {},
   "source": [
    "# RetinaNet performance statistics from test dataset"
   ]
  },
  {
   "cell_type": "code",
   "execution_count": 16,
   "metadata": {},
   "outputs": [
    {
     "name": "stdout",
     "output_type": "stream",
     "text": [
      "101/101 [==============================] - 11s 94ms/step\n",
      "0.7109750509262085\n",
      "0.5695854723453522\n",
      "0.8134786635637283\n"
     ]
    }
   ],
   "source": [
    "# specify filepath of model save file\n",
    "model_checkpoint_filepath=''\n",
    "test_model = models.load_model(model_checkpoint_filepath)\n",
    "tgen = biondi.dataset.TrainingGenerator(data=t, batch_size=16, retinanet=True, validation=True)\n",
    "\n",
    "ious = {\n",
    "    'med': [],\n",
    "    'p25': [],\n",
    "    'p75': []}\n",
    "\n",
    "enqueuer = keras.utils.OrderedEnqueuer(tgen)\n",
    "enqueuer.start(workers=12, max_queue_size=128)\n",
    "datas = enqueuer.get()\n",
    "progbar = keras.utils.Progbar(tgen.__len__())\n",
    "for i in range(tgen.__len__()):\n",
    "    rn_preds = test_model.predict_on_batch(next(datas))\n",
    "    progbar.add(1)\n",
    "    anchors_pred, _ = bb_c3_16.convert_box_to_anc(rn_preds, iou_nms=0.3)\n",
    "    gtruth = {j: t[j][i * 16:(i + 1) * 16] for j in t.keys()}\n",
    "    anchors_true, _ = bb_c3_16.convert_box_to_anc(gtruth)\n",
    "\n",
    "    curr = []\n",
    "    for pred, true in zip(anchors_pred, anchors_true):\n",
    "        for p in pred:\n",
    "            iou = bb_c3_16.calculate_ious(box=p, anchors=true)\n",
    "            if iou.size > 0:\n",
    "                curr.append(np.max(iou))\n",
    "            else:\n",
    "                curr.append(0)\n",
    "\n",
    "    if len(curr) == 0:\n",
    "        curr = [0]\n",
    "\n",
    "    ious['med'].append(np.median(curr))\n",
    "    ious['p25'].append(np.percentile(curr, 25))\n",
    "    ious['p75'].append(np.percentile(curr, 75))\n",
    "dfiou = pd.DataFrame(index=np.arange(np.array(ious['med']).size))\n",
    "dfiou['iou_median'] = ious['med']\n",
    "dfiou['iou_p-25th'] = ious['p25']\n",
    "dfiou['iou_p-75th'] = ious['p75']\n",
    "\n",
    "print(dfiou['iou_median'].median())\n",
    "print(dfiou['iou_p-25th'].median())\n",
    "print(dfiou['iou_p-75th'].median())\n",
    "\n",
    "ious = {k: np.array(v) for k, v in ious.items()}\n",
    "enqueuer.stop()"
   ]
  },
  {
   "cell_type": "code",
   "execution_count": null,
   "metadata": {},
   "outputs": [],
   "source": []
  }
 ],
 "metadata": {
  "kernelspec": {
   "display_name": "Python 3",
   "language": "python",
   "name": "python3"
  },
  "language_info": {
   "codemirror_mode": {
    "name": "ipython",
    "version": 3
   },
   "file_extension": ".py",
   "mimetype": "text/x-python",
   "name": "python",
   "nbconvert_exporter": "python",
   "pygments_lexer": "ipython3",
   "version": "3.8.5"
  }
 },
 "nbformat": 4,
 "nbformat_minor": 4
}
